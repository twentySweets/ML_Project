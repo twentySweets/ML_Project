{
 "cells": [
  {
   "cell_type": "markdown",
   "metadata": {},
   "source": [
    "2. (c)"
   ]
  },
  {
   "cell_type": "code",
   "execution_count": 11,
   "metadata": {},
   "outputs": [
    {
     "name": "stdout",
     "output_type": "stream",
     "text": [
      "[ 0.56141487  0.11002747  0.09181781  0.13204028  0.75365227  0.06202918\n",
      "  0.3587997   0.65495896  0.38635403  0.71908705]\n"
     ]
    },
    {
     "data": {
      "text/plain": [
       "[<matplotlib.lines.Line2D at 0x7ff250db6208>]"
      ]
     },
     "execution_count": 11,
     "metadata": {},
     "output_type": "execute_result"
    },
    {
     "data": {
      "image/png": "[encoded data removed]",
      "text/plain": [
       "<matplotlib.figure.Figure at 0x7ff25143eba8>"
      ]
     },
     "metadata": {},
     "output_type": "display_data"
    }
   ],
   "source": [
    "import numpy as np\n",
    "import matplotlib\n",
    "import matplotlib.pyplot as plt\n",
    "from sklearn import datasets, linear_model, preprocessing\n",
    "%matplotlib inline\n",
    "\n",
    "# Import useful polynomial library\n",
    "import numpy.polynomial.polynomial as poly\n",
    "\n",
    "# True model parameters\n",
    "beta = np.array([1,2,-1])   # coefficients\n",
    "dtrue = len(beta)-1            # true poly degree\n",
    "\n",
    "# Independent data\n",
    "nsamp = 10\n",
    "xdat = np.random.uniform(0,1,nsamp)\n",
    "print(xdat)\n",
    "\n",
    "# Polynomial\n",
    "ydat = poly.polyval(xdat,beta)\n",
    "\n",
    "d = 1\n",
    "beta_hat = poly.polyfit(xdat,ydat,d)\n",
    "\n",
    "xtest = np.linspace(0,3,30)\n",
    "y_hat = poly.polyval(xtest,beta_hat)\n",
    "\n",
    "# Plot \n",
    "xp = np.linspace(0,3,30)\n",
    "yp = poly.polyval(xp,beta)\n",
    "plt.xlim(0,3)\n",
    "plt.plot(xp,yp,'r-',linewidth=2.0)\n",
    "plt.plot(xp,y_hat,'g-',linewidth=2.0)\n"
   ]
  },
  {
   "cell_type": "markdown",
   "metadata": {},
   "source": [
    "2. (d)\n",
    "Answer: From the picture we can see that when x=3 we can get the largest bias."
   ]
  }
 ],
 "metadata": {
  "kernelspec": {
   "display_name": "Python 3",
   "language": "python",
   "name": "python3"
  },
  "language_info": {
   "codemirror_mode": {
    "name": "ipython",
    "version": 3
   },
   "file_extension": ".py",
   "mimetype": "text/x-python",
   "name": "python",
   "nbconvert_exporter": "python",
   "pygments_lexer": "ipython3",
   "version": "3.6.1"
  }
 },
 "nbformat": 4,
 "nbformat_minor": 2
}
